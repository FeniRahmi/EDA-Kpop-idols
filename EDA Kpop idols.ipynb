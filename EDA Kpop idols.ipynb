{
 "cells": [
  {
   "cell_type": "markdown",
   "metadata": {},
   "source": [
    "# Exploratory Data of K-Pop Idols"
   ]
  },
  {
   "cell_type": "markdown",
   "metadata": {},
   "source": [
    "![kpop](What-is-K-Pop-min.png)\n",
    "![](https://www.90daykorean.com/what-is-kpop/)\n",
    "\n",
    "K-pop (abbreviation of Korean pop) is a genre of popular music originating in South Korea. K-pop is a term that is often used on the internet, and there is quite a popular fan following around the world. This ‘once local, now global’ phenomenon has an interesting background.\n",
    "\n",
    "K-pop idols are groups and artists formed by the various entertainment companies creating catchy Korean popular music and targeting younger audiences. The music groups are formed from a group of people who are all particularly talented in at least one of the following: singing, rapping, and dancing. These idols often enter the entertainment company in their teens and then train hard for years in areas like singing, rapping, dancing, and foreign languages. Then, if they are lucky and talented enough, by the end of their teens they will be picked for an idol group.\n",
    "\n",
    "K-pop idols have data! And it will be interesting if we explore this to answer several general questions. I will create some features based on the existing features.The dataset is about K-pop idols profile from 1992 to 2020.\n",
    "\n",
    "Data source : [K-Pop Database](https://dbkpop.com/)"
   ]
  },
  {
   "cell_type": "code",
   "execution_count": 1,
   "metadata": {},
   "outputs": [],
   "source": [
    "# Importing needed packages\n",
    "import pandas as pd\n",
    "import matplotlib.pyplot as plt\n",
    "import seaborn as sns"
   ]
  },
  {
   "cell_type": "code",
   "execution_count": 2,
   "metadata": {},
   "outputs": [
    {
     "data": {
      "text/html": [
       "<div>\n",
       "<style scoped>\n",
       "    .dataframe tbody tr th:only-of-type {\n",
       "        vertical-align: middle;\n",
       "    }\n",
       "\n",
       "    .dataframe tbody tr th {\n",
       "        vertical-align: top;\n",
       "    }\n",
       "\n",
       "    .dataframe thead th {\n",
       "        text-align: right;\n",
       "    }\n",
       "</style>\n",
       "<table border=\"1\" class=\"dataframe\">\n",
       "  <thead>\n",
       "    <tr style=\"text-align: right;\">\n",
       "      <th></th>\n",
       "      <th>Stage Name</th>\n",
       "      <th>Full Name</th>\n",
       "      <th>Korean Name</th>\n",
       "      <th>K. Stage Name</th>\n",
       "      <th>Date of Birth</th>\n",
       "      <th>Group</th>\n",
       "      <th>Country</th>\n",
       "      <th>Birthplace</th>\n",
       "      <th>Other Group</th>\n",
       "      <th>Gender</th>\n",
       "    </tr>\n",
       "  </thead>\n",
       "  <tbody>\n",
       "    <tr>\n",
       "      <th>0</th>\n",
       "      <td>A.M</td>\n",
       "      <td>Seong Hyunwoo</td>\n",
       "      <td>성현우</td>\n",
       "      <td>에이엠</td>\n",
       "      <td>1996-12-31</td>\n",
       "      <td>Limitless</td>\n",
       "      <td>South Korea</td>\n",
       "      <td>NaN</td>\n",
       "      <td>NaN</td>\n",
       "      <td>M</td>\n",
       "    </tr>\n",
       "    <tr>\n",
       "      <th>1</th>\n",
       "      <td>Ace</td>\n",
       "      <td>Jang Wooyoung</td>\n",
       "      <td>장우영</td>\n",
       "      <td>에이스</td>\n",
       "      <td>1992-08-28</td>\n",
       "      <td>VAV</td>\n",
       "      <td>South Korea</td>\n",
       "      <td>NaN</td>\n",
       "      <td>NaN</td>\n",
       "      <td>M</td>\n",
       "    </tr>\n",
       "    <tr>\n",
       "      <th>2</th>\n",
       "      <td>Aeji</td>\n",
       "      <td>Kwon Aeji</td>\n",
       "      <td>권애지</td>\n",
       "      <td>애지</td>\n",
       "      <td>1999-10-25</td>\n",
       "      <td>Hashtag</td>\n",
       "      <td>South Korea</td>\n",
       "      <td>Daegu</td>\n",
       "      <td>NaN</td>\n",
       "      <td>F</td>\n",
       "    </tr>\n",
       "    <tr>\n",
       "      <th>3</th>\n",
       "      <td>AhIn</td>\n",
       "      <td>Lee Ahin</td>\n",
       "      <td>이아인</td>\n",
       "      <td>아인</td>\n",
       "      <td>1999-09-27</td>\n",
       "      <td>MOMOLAND</td>\n",
       "      <td>South Korea</td>\n",
       "      <td>Wonju</td>\n",
       "      <td>NaN</td>\n",
       "      <td>F</td>\n",
       "    </tr>\n",
       "    <tr>\n",
       "      <th>4</th>\n",
       "      <td>Ahra</td>\n",
       "      <td>Go Ahra</td>\n",
       "      <td>고아라</td>\n",
       "      <td>아라</td>\n",
       "      <td>2001-02-21</td>\n",
       "      <td>Favorite</td>\n",
       "      <td>South Korea</td>\n",
       "      <td>Yeosu</td>\n",
       "      <td>NaN</td>\n",
       "      <td>F</td>\n",
       "    </tr>\n",
       "    <tr>\n",
       "      <th>...</th>\n",
       "      <td>...</td>\n",
       "      <td>...</td>\n",
       "      <td>...</td>\n",
       "      <td>...</td>\n",
       "      <td>...</td>\n",
       "      <td>...</td>\n",
       "      <td>...</td>\n",
       "      <td>...</td>\n",
       "      <td>...</td>\n",
       "      <td>...</td>\n",
       "    </tr>\n",
       "    <tr>\n",
       "      <th>1305</th>\n",
       "      <td>Ziu</td>\n",
       "      <td>Park Heejun</td>\n",
       "      <td>박희준</td>\n",
       "      <td>지우</td>\n",
       "      <td>1997-06-16</td>\n",
       "      <td>VAV</td>\n",
       "      <td>South Korea</td>\n",
       "      <td>NaN</td>\n",
       "      <td>NaN</td>\n",
       "      <td>M</td>\n",
       "    </tr>\n",
       "    <tr>\n",
       "      <th>1306</th>\n",
       "      <td>ZN</td>\n",
       "      <td>Bae Jinye</td>\n",
       "      <td>배진예</td>\n",
       "      <td>지엔</td>\n",
       "      <td>1994-06-09</td>\n",
       "      <td>LABOUM</td>\n",
       "      <td>South Korea</td>\n",
       "      <td>Bucheon</td>\n",
       "      <td>UNI.T</td>\n",
       "      <td>F</td>\n",
       "    </tr>\n",
       "    <tr>\n",
       "      <th>1307</th>\n",
       "      <td>Zoa</td>\n",
       "      <td>Cho Hyewon</td>\n",
       "      <td>조혜원</td>\n",
       "      <td>조아</td>\n",
       "      <td>2005-05-31</td>\n",
       "      <td>Weeekly</td>\n",
       "      <td>South Korea</td>\n",
       "      <td>NaN</td>\n",
       "      <td>NaN</td>\n",
       "      <td>F</td>\n",
       "    </tr>\n",
       "    <tr>\n",
       "      <th>1308</th>\n",
       "      <td>Zuho</td>\n",
       "      <td>Bae Juho</td>\n",
       "      <td>백주호</td>\n",
       "      <td>주호</td>\n",
       "      <td>1996-07-04</td>\n",
       "      <td>SF9</td>\n",
       "      <td>South Korea</td>\n",
       "      <td>NaN</td>\n",
       "      <td>NaN</td>\n",
       "      <td>M</td>\n",
       "    </tr>\n",
       "    <tr>\n",
       "      <th>1309</th>\n",
       "      <td>Zuny</td>\n",
       "      <td>Kim Joomi</td>\n",
       "      <td>김주미</td>\n",
       "      <td>주니</td>\n",
       "      <td>1994-12-08</td>\n",
       "      <td>Ladies' Code</td>\n",
       "      <td>South Korea</td>\n",
       "      <td>Gwangju</td>\n",
       "      <td>NaN</td>\n",
       "      <td>F</td>\n",
       "    </tr>\n",
       "  </tbody>\n",
       "</table>\n",
       "<p>1310 rows × 10 columns</p>\n",
       "</div>"
      ],
      "text/plain": [
       "     Stage Name      Full Name Korean Name K. Stage Name Date of Birth  \\\n",
       "0           A.M  Seong Hyunwoo         성현우           에이엠    1996-12-31   \n",
       "1           Ace  Jang Wooyoung         장우영           에이스    1992-08-28   \n",
       "2          Aeji      Kwon Aeji         권애지            애지    1999-10-25   \n",
       "3          AhIn       Lee Ahin         이아인            아인    1999-09-27   \n",
       "4          Ahra        Go Ahra         고아라            아라    2001-02-21   \n",
       "...         ...            ...         ...           ...           ...   \n",
       "1305        Ziu    Park Heejun         박희준            지우    1997-06-16   \n",
       "1306         ZN      Bae Jinye         배진예            지엔    1994-06-09   \n",
       "1307        Zoa     Cho Hyewon         조혜원            조아    2005-05-31   \n",
       "1308       Zuho       Bae Juho         백주호            주호    1996-07-04   \n",
       "1309       Zuny      Kim Joomi         김주미            주니    1994-12-08   \n",
       "\n",
       "             Group      Country Birthplace Other Group Gender  \n",
       "0        Limitless  South Korea        NaN         NaN      M  \n",
       "1              VAV  South Korea        NaN         NaN      M  \n",
       "2          Hashtag  South Korea      Daegu         NaN      F  \n",
       "3         MOMOLAND  South Korea      Wonju         NaN      F  \n",
       "4         Favorite  South Korea      Yeosu         NaN      F  \n",
       "...            ...          ...        ...         ...    ...  \n",
       "1305           VAV  South Korea        NaN         NaN      M  \n",
       "1306        LABOUM  South Korea    Bucheon       UNI.T      F  \n",
       "1307       Weeekly  South Korea        NaN         NaN      F  \n",
       "1308           SF9  South Korea        NaN         NaN      M  \n",
       "1309  Ladies' Code  South Korea    Gwangju         NaN      F  \n",
       "\n",
       "[1310 rows x 10 columns]"
      ]
     },
     "metadata": {},
     "output_type": "display_data"
    }
   ],
   "source": [
    "# Improting dataset\n",
    "idols = pd.read_csv('kpop_idols.csv')\n",
    "display(idols)"
   ]
  },
  {
   "cell_type": "markdown",
   "metadata": {},
   "source": [
    "Important note here, I assume mostly the readers here can not read hangul (korean letter). That's why I will drop <code>Korean Name</code> and <code>K. Stage Name</code> columns."
   ]
  },
  {
   "cell_type": "code",
   "execution_count": 3,
   "metadata": {},
   "outputs": [
    {
     "data": {
      "text/html": [
       "<div>\n",
       "<style scoped>\n",
       "    .dataframe tbody tr th:only-of-type {\n",
       "        vertical-align: middle;\n",
       "    }\n",
       "\n",
       "    .dataframe tbody tr th {\n",
       "        vertical-align: top;\n",
       "    }\n",
       "\n",
       "    .dataframe thead th {\n",
       "        text-align: right;\n",
       "    }\n",
       "</style>\n",
       "<table border=\"1\" class=\"dataframe\">\n",
       "  <thead>\n",
       "    <tr style=\"text-align: right;\">\n",
       "      <th></th>\n",
       "      <th>Stage Name</th>\n",
       "      <th>Full Name</th>\n",
       "      <th>Date of Birth</th>\n",
       "      <th>Group</th>\n",
       "      <th>Country</th>\n",
       "      <th>Birthplace</th>\n",
       "      <th>Other Group</th>\n",
       "      <th>Gender</th>\n",
       "    </tr>\n",
       "  </thead>\n",
       "  <tbody>\n",
       "    <tr>\n",
       "      <th>0</th>\n",
       "      <td>A.M</td>\n",
       "      <td>Seong Hyunwoo</td>\n",
       "      <td>1996-12-31</td>\n",
       "      <td>Limitless</td>\n",
       "      <td>South Korea</td>\n",
       "      <td>NaN</td>\n",
       "      <td>NaN</td>\n",
       "      <td>M</td>\n",
       "    </tr>\n",
       "  </tbody>\n",
       "</table>\n",
       "</div>"
      ],
      "text/plain": [
       "  Stage Name      Full Name Date of Birth      Group      Country Birthplace  \\\n",
       "0        A.M  Seong Hyunwoo    1996-12-31  Limitless  South Korea        NaN   \n",
       "\n",
       "  Other Group Gender  \n",
       "0         NaN      M  "
      ]
     },
     "execution_count": 3,
     "metadata": {},
     "output_type": "execute_result"
    }
   ],
   "source": [
    "idols = idols.drop(['Korean Name', 'K. Stage Name'], axis=1)\n",
    "idols.head(1)"
   ]
  },
  {
   "cell_type": "markdown",
   "metadata": {},
   "source": [
    "Also, I think <code>Birthplace</code> is not really matters, and I will drop it too."
   ]
  },
  {
   "cell_type": "code",
   "execution_count": 4,
   "metadata": {},
   "outputs": [
    {
     "data": {
      "text/html": [
       "<div>\n",
       "<style scoped>\n",
       "    .dataframe tbody tr th:only-of-type {\n",
       "        vertical-align: middle;\n",
       "    }\n",
       "\n",
       "    .dataframe tbody tr th {\n",
       "        vertical-align: top;\n",
       "    }\n",
       "\n",
       "    .dataframe thead th {\n",
       "        text-align: right;\n",
       "    }\n",
       "</style>\n",
       "<table border=\"1\" class=\"dataframe\">\n",
       "  <thead>\n",
       "    <tr style=\"text-align: right;\">\n",
       "      <th></th>\n",
       "      <th>Stage Name</th>\n",
       "      <th>Full Name</th>\n",
       "      <th>Date of Birth</th>\n",
       "      <th>Group</th>\n",
       "      <th>Country</th>\n",
       "      <th>Other Group</th>\n",
       "      <th>Gender</th>\n",
       "    </tr>\n",
       "  </thead>\n",
       "  <tbody>\n",
       "    <tr>\n",
       "      <th>0</th>\n",
       "      <td>A.M</td>\n",
       "      <td>Seong Hyunwoo</td>\n",
       "      <td>1996-12-31</td>\n",
       "      <td>Limitless</td>\n",
       "      <td>South Korea</td>\n",
       "      <td>NaN</td>\n",
       "      <td>M</td>\n",
       "    </tr>\n",
       "  </tbody>\n",
       "</table>\n",
       "</div>"
      ],
      "text/plain": [
       "  Stage Name      Full Name Date of Birth      Group      Country Other Group  \\\n",
       "0        A.M  Seong Hyunwoo    1996-12-31  Limitless  South Korea         NaN   \n",
       "\n",
       "  Gender  \n",
       "0      M  "
      ]
     },
     "execution_count": 4,
     "metadata": {},
     "output_type": "execute_result"
    }
   ],
   "source": [
    "idols = idols.drop(['Birthplace'], axis=1)\n",
    "idols.head(1)"
   ]
  },
  {
   "cell_type": "code",
   "execution_count": 5,
   "metadata": {},
   "outputs": [
    {
     "name": "stdout",
     "output_type": "stream",
     "text": [
      "Other Group      1188\n",
      "Group              91\n",
      "Full Name           6\n",
      "Gender              0\n",
      "Country             0\n",
      "Date of Birth       0\n",
      "Stage Name          0\n",
      "dtype: int64\n"
     ]
    }
   ],
   "source": [
    "# Checking missing values\n",
    "count_missing = idols.isnull().sum().sort_values(ascending = False)\n",
    "print(count_missing)"
   ]
  },
  {
   "cell_type": "code",
   "execution_count": 6,
   "metadata": {},
   "outputs": [
    {
     "data": {
      "text/html": [
       "<div>\n",
       "<style scoped>\n",
       "    .dataframe tbody tr th:only-of-type {\n",
       "        vertical-align: middle;\n",
       "    }\n",
       "\n",
       "    .dataframe tbody tr th {\n",
       "        vertical-align: top;\n",
       "    }\n",
       "\n",
       "    .dataframe thead th {\n",
       "        text-align: right;\n",
       "    }\n",
       "</style>\n",
       "<table border=\"1\" class=\"dataframe\">\n",
       "  <thead>\n",
       "    <tr style=\"text-align: right;\">\n",
       "      <th></th>\n",
       "      <th>Stage Name</th>\n",
       "      <th>Full Name</th>\n",
       "      <th>Date of Birth</th>\n",
       "      <th>Group</th>\n",
       "      <th>Country</th>\n",
       "      <th>Other Group</th>\n",
       "      <th>Gender</th>\n",
       "    </tr>\n",
       "  </thead>\n",
       "  <tbody>\n",
       "    <tr>\n",
       "      <th>310</th>\n",
       "      <td>Harin</td>\n",
       "      <td>NaN</td>\n",
       "      <td>1995-11-21</td>\n",
       "      <td>Lusty</td>\n",
       "      <td>South Korea</td>\n",
       "      <td>NaN</td>\n",
       "      <td>F</td>\n",
       "    </tr>\n",
       "    <tr>\n",
       "      <th>442</th>\n",
       "      <td>Isol</td>\n",
       "      <td>NaN</td>\n",
       "      <td>1997-05-01</td>\n",
       "      <td>Lusty</td>\n",
       "      <td>South Korea</td>\n",
       "      <td>NaN</td>\n",
       "      <td>F</td>\n",
       "    </tr>\n",
       "    <tr>\n",
       "      <th>529</th>\n",
       "      <td>Jinhui</td>\n",
       "      <td>NaN</td>\n",
       "      <td>1996-11-21</td>\n",
       "      <td>Lusty</td>\n",
       "      <td>South Korea</td>\n",
       "      <td>NaN</td>\n",
       "      <td>F</td>\n",
       "    </tr>\n",
       "    <tr>\n",
       "      <th>764</th>\n",
       "      <td>Mini</td>\n",
       "      <td>NaN</td>\n",
       "      <td>2000-06-12</td>\n",
       "      <td>Purplebeck</td>\n",
       "      <td>South Korea</td>\n",
       "      <td>NaN</td>\n",
       "      <td>F</td>\n",
       "    </tr>\n",
       "    <tr>\n",
       "      <th>1212</th>\n",
       "      <td>Yeryung</td>\n",
       "      <td>NaN</td>\n",
       "      <td>2002-06-22</td>\n",
       "      <td>Lusty</td>\n",
       "      <td>South Korea</td>\n",
       "      <td>NaN</td>\n",
       "      <td>F</td>\n",
       "    </tr>\n",
       "    <tr>\n",
       "      <th>1246</th>\n",
       "      <td>Yoonji</td>\n",
       "      <td>NaN</td>\n",
       "      <td>1998-07-21</td>\n",
       "      <td>Lusty</td>\n",
       "      <td>South Korea</td>\n",
       "      <td>NaN</td>\n",
       "      <td>F</td>\n",
       "    </tr>\n",
       "  </tbody>\n",
       "</table>\n",
       "</div>"
      ],
      "text/plain": [
       "     Stage Name Full Name Date of Birth       Group      Country Other Group  \\\n",
       "310       Harin       NaN    1995-11-21       Lusty  South Korea         NaN   \n",
       "442        Isol       NaN    1997-05-01       Lusty  South Korea         NaN   \n",
       "529      Jinhui       NaN    1996-11-21       Lusty  South Korea         NaN   \n",
       "764        Mini       NaN    2000-06-12  Purplebeck  South Korea         NaN   \n",
       "1212    Yeryung       NaN    2002-06-22       Lusty  South Korea         NaN   \n",
       "1246     Yoonji       NaN    1998-07-21       Lusty  South Korea         NaN   \n",
       "\n",
       "     Gender  \n",
       "310       F  \n",
       "442       F  \n",
       "529       F  \n",
       "764       F  \n",
       "1212      F  \n",
       "1246      F  "
      ]
     },
     "execution_count": 6,
     "metadata": {},
     "output_type": "execute_result"
    }
   ],
   "source": [
    "idols[idols['Full Name'].isnull()]"
   ]
  },
  {
   "cell_type": "markdown",
   "metadata": {},
   "source": [
    "For these six idols without full names, let's assume that they have not submit their profile on the internet yet. People already know them by their stage name, and most of them are coming from Lusty group."
   ]
  },
  {
   "cell_type": "markdown",
   "metadata": {},
   "source": [
    "## I will explore the data to answer several questions :\n",
    "### 1. How is the comparison between male and female idols?"
   ]
  },
  {
   "cell_type": "code",
   "execution_count": 7,
   "metadata": {},
   "outputs": [
    {
     "data": {
      "text/plain": [
       "M    676\n",
       "F    634\n",
       "Name: Gender, dtype: int64"
      ]
     },
     "execution_count": 7,
     "metadata": {},
     "output_type": "execute_result"
    }
   ],
   "source": [
    "genders = idols['Gender'].value_counts()\n",
    "genders"
   ]
  },
  {
   "cell_type": "code",
   "execution_count": 8,
   "metadata": {},
   "outputs": [
    {
     "data": {
      "image/png": "[encoded data removed]",
      "text/plain": [
       "<Figure size 576x432 with 1 Axes>"
      ]
     },
     "metadata": {},
     "output_type": "display_data"
    }
   ],
   "source": [
    "# I will visualize it in a pie chart\n",
    "colors_list = ['lightskyblue', 'pink']\n",
    "genders = idols['Gender'].value_counts()\n",
    "genders.plot(kind='pie',\n",
    "             figsize=(8, 6),\n",
    "             autopct='%1.1f%%', \n",
    "             startangle=90,     \n",
    "             labels=None,         \n",
    "             pctdistance=1.12,# the ratio between the center of each pie slice and the start of the text generated by autopct \n",
    "             colors=colors_list,\n",
    "             )\n",
    "\n",
    "plt.title('K-pop Idols Gender\\n')\n",
    "plt.axis('equal')\n",
    "plt.legend(labels=['Male', 'Female'], loc='upper right') \n",
    "plt.show()"
   ]
  },
  {
   "cell_type": "markdown",
   "metadata": {},
   "source": [
    "There's slight difference between the percentage. So, it can be concluded that the number of female idols is not much different from the number of male idols."
   ]
  },
  {
   "cell_type": "markdown",
   "metadata": {},
   "source": [
    "### 2. Does K-pop idols only came from South Korea?\n",
    "To answer this, we will look further on the <code>Country</code> column."
   ]
  },
  {
   "cell_type": "code",
   "execution_count": 9,
   "metadata": {},
   "outputs": [
    {
     "data": {
      "text/plain": [
       "12"
      ]
     },
     "execution_count": 9,
     "metadata": {},
     "output_type": "execute_result"
    }
   ],
   "source": [
    "idols['Country'].nunique()"
   ]
  },
  {
   "cell_type": "markdown",
   "metadata": {},
   "source": [
    "The K-pop idols came from 12 countries, not only from South Korea. Let's look deeper."
   ]
  },
  {
   "cell_type": "code",
   "execution_count": 10,
   "metadata": {},
   "outputs": [
    {
     "data": {
      "text/plain": [
       "South Korea    1204\n",
       "China            39\n",
       "Japan            27\n",
       "USA              14\n",
       "Taiwan            6\n",
       "Thailand          6\n",
       "Canada            5\n",
       "Hong Kong         4\n",
       "Indonesia         2\n",
       "Australia         1\n",
       "Philippines       1\n",
       "Malaysia          1\n",
       "Name: Country, dtype: int64"
      ]
     },
     "execution_count": 10,
     "metadata": {},
     "output_type": "execute_result"
    }
   ],
   "source": [
    "idols['Country'].value_counts()"
   ]
  },
  {
   "cell_type": "markdown",
   "metadata": {},
   "source": [
    "From this result, we could see that foreign members are not so much in comparison South Korean. I want to know who is came from Indonesia (because I'm Indonesian hehe)."
   ]
  },
  {
   "cell_type": "code",
   "execution_count": 11,
   "metadata": {},
   "outputs": [
    {
     "data": {
      "text/html": [
       "<div>\n",
       "<style scoped>\n",
       "    .dataframe tbody tr th:only-of-type {\n",
       "        vertical-align: middle;\n",
       "    }\n",
       "\n",
       "    .dataframe tbody tr th {\n",
       "        vertical-align: top;\n",
       "    }\n",
       "\n",
       "    .dataframe thead th {\n",
       "        text-align: right;\n",
       "    }\n",
       "</style>\n",
       "<table border=\"1\" class=\"dataframe\">\n",
       "  <thead>\n",
       "    <tr style=\"text-align: right;\">\n",
       "      <th></th>\n",
       "      <th>Stage Name</th>\n",
       "      <th>Full Name</th>\n",
       "      <th>Date of Birth</th>\n",
       "      <th>Group</th>\n",
       "      <th>Country</th>\n",
       "      <th>Other Group</th>\n",
       "      <th>Gender</th>\n",
       "    </tr>\n",
       "  </thead>\n",
       "  <tbody>\n",
       "    <tr>\n",
       "      <th>168</th>\n",
       "      <td>Dita</td>\n",
       "      <td>Dita Karang</td>\n",
       "      <td>1996-12-25</td>\n",
       "      <td>SECRET NUMBER</td>\n",
       "      <td>Indonesia</td>\n",
       "      <td>NaN</td>\n",
       "      <td>F</td>\n",
       "    </tr>\n",
       "    <tr>\n",
       "      <th>714</th>\n",
       "      <td>Loudi</td>\n",
       "      <td>Won Jihoon</td>\n",
       "      <td>1996-04-13</td>\n",
       "      <td>14U</td>\n",
       "      <td>Indonesia</td>\n",
       "      <td>NaN</td>\n",
       "      <td>M</td>\n",
       "    </tr>\n",
       "  </tbody>\n",
       "</table>\n",
       "</div>"
      ],
      "text/plain": [
       "    Stage Name    Full Name Date of Birth          Group    Country  \\\n",
       "168       Dita  Dita Karang    1996-12-25  SECRET NUMBER  Indonesia   \n",
       "714      Loudi   Won Jihoon    1996-04-13            14U  Indonesia   \n",
       "\n",
       "    Other Group Gender  \n",
       "168         NaN      F  \n",
       "714         NaN      M  "
      ]
     },
     "execution_count": 11,
     "metadata": {},
     "output_type": "execute_result"
    }
   ],
   "source": [
    "indo = idols[idols['Country'] == 'Indonesia']\n",
    "indo"
   ]
  },
  {
   "cell_type": "markdown",
   "metadata": {},
   "source": [
    "Here are Dita from SECRET NUMBER and Loudi from 14U."
   ]
  },
  {
   "cell_type": "markdown",
   "metadata": {},
   "source": [
    "Due to significant comparison (in number), I will choose **The Top 3 Country**."
   ]
  },
  {
   "cell_type": "code",
   "execution_count": 12,
   "metadata": {},
   "outputs": [
    {
     "data": {
      "text/plain": [
       "South Korea    1204\n",
       "China            39\n",
       "Japan            27\n",
       "Name: Country, dtype: int64"
      ]
     },
     "execution_count": 12,
     "metadata": {},
     "output_type": "execute_result"
    }
   ],
   "source": [
    "top3 = idols['Country'].value_counts(ascending=False)\n",
    "top3 = top3.head(3)\n",
    "top3"
   ]
  },
  {
   "cell_type": "code",
   "execution_count": 13,
   "metadata": {},
   "outputs": [
    {
     "data": {
      "image/png": "[encoded data removed]",
      "text/plain": [
       "<Figure size 720x432 with 1 Axes>"
      ]
     },
     "metadata": {
      "needs_background": "light"
     },
     "output_type": "display_data"
    }
   ],
   "source": [
    "colors = ['lightblue', 'lightgreen', 'lightcoral']\n",
    "top3.plot(kind='barh', figsize=(10, 6), color = colors)\n",
    "plt.xlabel('Number of Idols')\n",
    "plt.ylabel('Country')\n",
    "plt.title(\"The Top 3 K-pop Idols Country\")\n",
    "plt.show()"
   ]
  },
  {
   "cell_type": "markdown",
   "metadata": {},
   "source": [
    "Why K-pop idols is not only South Korean?\n",
    "\n",
    "According to [The Pudding](https://pudding.cool/2020/10/kpop/), there's International Casting. Agencies began more proactive global recruiting in the mid 2000s, perhaps to capitalize on K-pop’s international growth. \n",
    "Global auditions were held primarily in the USA and Canada before expanding into China, Japan, Thailand, Australia, and more. Many agencies now enable hopefuls to audition online and, while there are not always limits on nationality, the majority of idols that debut are from East Asian countries or have East Asian heritage.\n",
    "\n",
    "From the bar chart above, the top 3 K-pop idols country is South Korea, China and Japan."
   ]
  },
  {
   "cell_type": "markdown",
   "metadata": {},
   "source": [
    "### 3. a) How many groups in K-pop?"
   ]
  },
  {
   "cell_type": "code",
   "execution_count": 14,
   "metadata": {},
   "outputs": [
    {
     "data": {
      "text/plain": [
       "208"
      ]
     },
     "execution_count": 14,
     "metadata": {},
     "output_type": "execute_result"
    }
   ],
   "source": [
    "idols['Group'].nunique()"
   ]
  },
  {
   "cell_type": "markdown",
   "metadata": {},
   "source": [
    "There are 208 K-pop groups in total from 1992 to 2020. But if we look back to missing values, <code>Group</code> column has 91 missing values."
   ]
  },
  {
   "cell_type": "code",
   "execution_count": 15,
   "metadata": {},
   "outputs": [
    {
     "data": {
      "text/html": [
       "<div>\n",
       "<style scoped>\n",
       "    .dataframe tbody tr th:only-of-type {\n",
       "        vertical-align: middle;\n",
       "    }\n",
       "\n",
       "    .dataframe tbody tr th {\n",
       "        vertical-align: top;\n",
       "    }\n",
       "\n",
       "    .dataframe thead th {\n",
       "        text-align: right;\n",
       "    }\n",
       "</style>\n",
       "<table border=\"1\" class=\"dataframe\">\n",
       "  <thead>\n",
       "    <tr style=\"text-align: right;\">\n",
       "      <th></th>\n",
       "      <th>Stage Name</th>\n",
       "      <th>Full Name</th>\n",
       "      <th>Date of Birth</th>\n",
       "      <th>Group</th>\n",
       "      <th>Country</th>\n",
       "      <th>Other Group</th>\n",
       "      <th>Gender</th>\n",
       "    </tr>\n",
       "  </thead>\n",
       "  <tbody>\n",
       "    <tr>\n",
       "      <th>7</th>\n",
       "      <td>Ailee</td>\n",
       "      <td>Lee Yejin</td>\n",
       "      <td>1989-05-30</td>\n",
       "      <td>NaN</td>\n",
       "      <td>South Korea</td>\n",
       "      <td>NaN</td>\n",
       "      <td>F</td>\n",
       "    </tr>\n",
       "    <tr>\n",
       "      <th>10</th>\n",
       "      <td>AleXa</td>\n",
       "      <td>Kim Seri</td>\n",
       "      <td>1996-12-06</td>\n",
       "      <td>NaN</td>\n",
       "      <td>USA</td>\n",
       "      <td>NaN</td>\n",
       "      <td>F</td>\n",
       "    </tr>\n",
       "    <tr>\n",
       "      <th>16</th>\n",
       "      <td>Arang</td>\n",
       "      <td>Son Mnjung</td>\n",
       "      <td>2000-03-08</td>\n",
       "      <td>NaN</td>\n",
       "      <td>South Korea</td>\n",
       "      <td>NaN</td>\n",
       "      <td>F</td>\n",
       "    </tr>\n",
       "    <tr>\n",
       "      <th>30</th>\n",
       "      <td>B.I</td>\n",
       "      <td>Kim Hanbin</td>\n",
       "      <td>1996-10-22</td>\n",
       "      <td>NaN</td>\n",
       "      <td>South Korea</td>\n",
       "      <td>NaN</td>\n",
       "      <td>M</td>\n",
       "    </tr>\n",
       "    <tr>\n",
       "      <th>42</th>\n",
       "      <td>Bekah</td>\n",
       "      <td>Rebecca Kim</td>\n",
       "      <td>1989-08-11</td>\n",
       "      <td>NaN</td>\n",
       "      <td>South Korea</td>\n",
       "      <td>NaN</td>\n",
       "      <td>F</td>\n",
       "    </tr>\n",
       "  </tbody>\n",
       "</table>\n",
       "</div>"
      ],
      "text/plain": [
       "   Stage Name    Full Name Date of Birth Group      Country Other Group Gender\n",
       "7       Ailee    Lee Yejin    1989-05-30   NaN  South Korea         NaN      F\n",
       "10      AleXa     Kim Seri    1996-12-06   NaN          USA         NaN      F\n",
       "16      Arang   Son Mnjung    2000-03-08   NaN  South Korea         NaN      F\n",
       "30        B.I   Kim Hanbin    1996-10-22   NaN  South Korea         NaN      M\n",
       "42      Bekah  Rebecca Kim    1989-08-11   NaN  South Korea         NaN      F"
      ]
     },
     "execution_count": 15,
     "metadata": {},
     "output_type": "execute_result"
    }
   ],
   "source": [
    "solo = idols[idols['Group'].isnull()]\n",
    "solo.head(5)"
   ]
  },
  {
   "cell_type": "markdown",
   "metadata": {},
   "source": [
    "Ailee, for the example, is a solo singer, she doesn't have a group. So the missing value in <code>Group</code> column aren't missing. The idol is a **soloist** and doesn't belong to any group."
   ]
  },
  {
   "cell_type": "markdown",
   "metadata": {},
   "source": [
    "### 3. b) How many idols that have more than one group (other group)?"
   ]
  },
  {
   "cell_type": "code",
   "execution_count": 16,
   "metadata": {},
   "outputs": [
    {
     "data": {
      "text/html": [
       "<div>\n",
       "<style scoped>\n",
       "    .dataframe tbody tr th:only-of-type {\n",
       "        vertical-align: middle;\n",
       "    }\n",
       "\n",
       "    .dataframe tbody tr th {\n",
       "        vertical-align: top;\n",
       "    }\n",
       "\n",
       "    .dataframe thead th {\n",
       "        text-align: right;\n",
       "    }\n",
       "</style>\n",
       "<table border=\"1\" class=\"dataframe\">\n",
       "  <thead>\n",
       "    <tr style=\"text-align: right;\">\n",
       "      <th></th>\n",
       "      <th>Stage Name</th>\n",
       "      <th>Full Name</th>\n",
       "      <th>Date of Birth</th>\n",
       "      <th>Group</th>\n",
       "      <th>Country</th>\n",
       "      <th>Other Group</th>\n",
       "      <th>Gender</th>\n",
       "    </tr>\n",
       "  </thead>\n",
       "  <tbody>\n",
       "    <tr>\n",
       "      <th>1262</th>\n",
       "      <td>Youngmin</td>\n",
       "      <td>Lee Youngmin</td>\n",
       "      <td>1995-12-25</td>\n",
       "      <td>AB6IX</td>\n",
       "      <td>South Korea</td>\n",
       "      <td>MXM</td>\n",
       "      <td>M</td>\n",
       "    </tr>\n",
       "    <tr>\n",
       "      <th>1281</th>\n",
       "      <td>Yuna</td>\n",
       "      <td>Seo Yuna</td>\n",
       "      <td>1992-12-30</td>\n",
       "      <td>AoA</td>\n",
       "      <td>South Korea</td>\n",
       "      <td>AOA BLACK</td>\n",
       "      <td>F</td>\n",
       "    </tr>\n",
       "    <tr>\n",
       "      <th>1296</th>\n",
       "      <td>Yuta</td>\n",
       "      <td>Nakamoto Yuta</td>\n",
       "      <td>1995-10-26</td>\n",
       "      <td>NCT</td>\n",
       "      <td>Japan</td>\n",
       "      <td>NCT 127</td>\n",
       "      <td>M</td>\n",
       "    </tr>\n",
       "    <tr>\n",
       "      <th>1299</th>\n",
       "      <td>Yves</td>\n",
       "      <td>Ha Sooyoung</td>\n",
       "      <td>1997-05-24</td>\n",
       "      <td>LOONA</td>\n",
       "      <td>South Korea</td>\n",
       "      <td>Loona yyxy</td>\n",
       "      <td>F</td>\n",
       "    </tr>\n",
       "    <tr>\n",
       "      <th>1306</th>\n",
       "      <td>ZN</td>\n",
       "      <td>Bae Jinye</td>\n",
       "      <td>1994-06-09</td>\n",
       "      <td>LABOUM</td>\n",
       "      <td>South Korea</td>\n",
       "      <td>UNI.T</td>\n",
       "      <td>F</td>\n",
       "    </tr>\n",
       "  </tbody>\n",
       "</table>\n",
       "</div>"
      ],
      "text/plain": [
       "     Stage Name      Full Name Date of Birth   Group      Country Other Group  \\\n",
       "1262   Youngmin   Lee Youngmin    1995-12-25   AB6IX  South Korea         MXM   \n",
       "1281       Yuna       Seo Yuna    1992-12-30     AoA  South Korea   AOA BLACK   \n",
       "1296       Yuta  Nakamoto Yuta    1995-10-26     NCT        Japan     NCT 127   \n",
       "1299       Yves    Ha Sooyoung    1997-05-24   LOONA  South Korea  Loona yyxy   \n",
       "1306         ZN      Bae Jinye    1994-06-09  LABOUM  South Korea       UNI.T   \n",
       "\n",
       "     Gender  \n",
       "1262      M  \n",
       "1281      F  \n",
       "1296      M  \n",
       "1299      F  \n",
       "1306      F  "
      ]
     },
     "execution_count": 16,
     "metadata": {},
     "output_type": "execute_result"
    }
   ],
   "source": [
    "idols[idols['Other Group'].notnull()].tail(5)"
   ]
  },
  {
   "cell_type": "markdown",
   "metadata": {},
   "source": [
    "I will choose one example, Yuta. Yuta is NCT group member, but he also NCT 127 group member. The <code>Other Group</code> here means **sub-unit group**. NCT 127 is a sub-unit group of NCT.\n",
    "\n",
    "[Sub-units](https://pudding.cool/2020/10/kpop/) : \n",
    "As groups became larger and international casting became more popular, subunits became more prevalent. These are smaller groups-within-a-group that may target a different market or audience by exploring different musical influences or promoting in non-Korean languages.\n",
    "\n",
    "There are 122 idols which became a member of their sub-unit group."
   ]
  },
  {
   "cell_type": "markdown",
   "metadata": {},
   "source": [
    "### 4. How many idols use stage name?\n",
    "First I will separate the surname and first name of the idols."
   ]
  },
  {
   "cell_type": "code",
   "execution_count": 17,
   "metadata": {},
   "outputs": [],
   "source": [
    "idols['Full Name'] = idols['Full Name'].astype(str)"
   ]
  },
  {
   "cell_type": "code",
   "execution_count": 18,
   "metadata": {},
   "outputs": [],
   "source": [
    "idols['Surname'] = idols['Full Name'].apply(lambda x: x.split(' ')[0])"
   ]
  },
  {
   "cell_type": "code",
   "execution_count": 19,
   "metadata": {},
   "outputs": [],
   "source": [
    "idols['First Name'] = idols['Full Name'].apply(lambda x: x.split(' ')[-1])"
   ]
  },
  {
   "cell_type": "code",
   "execution_count": 20,
   "metadata": {},
   "outputs": [
    {
     "data": {
      "text/html": [
       "<div>\n",
       "<style scoped>\n",
       "    .dataframe tbody tr th:only-of-type {\n",
       "        vertical-align: middle;\n",
       "    }\n",
       "\n",
       "    .dataframe tbody tr th {\n",
       "        vertical-align: top;\n",
       "    }\n",
       "\n",
       "    .dataframe thead th {\n",
       "        text-align: right;\n",
       "    }\n",
       "</style>\n",
       "<table border=\"1\" class=\"dataframe\">\n",
       "  <thead>\n",
       "    <tr style=\"text-align: right;\">\n",
       "      <th></th>\n",
       "      <th>Stage Name</th>\n",
       "      <th>Full Name</th>\n",
       "      <th>Date of Birth</th>\n",
       "      <th>Group</th>\n",
       "      <th>Country</th>\n",
       "      <th>Other Group</th>\n",
       "      <th>Gender</th>\n",
       "      <th>Surname</th>\n",
       "      <th>First Name</th>\n",
       "    </tr>\n",
       "  </thead>\n",
       "  <tbody>\n",
       "    <tr>\n",
       "      <th>0</th>\n",
       "      <td>A.M</td>\n",
       "      <td>Seong Hyunwoo</td>\n",
       "      <td>1996-12-31</td>\n",
       "      <td>Limitless</td>\n",
       "      <td>South Korea</td>\n",
       "      <td>NaN</td>\n",
       "      <td>M</td>\n",
       "      <td>Seong</td>\n",
       "      <td>Hyunwoo</td>\n",
       "    </tr>\n",
       "    <tr>\n",
       "      <th>1</th>\n",
       "      <td>Ace</td>\n",
       "      <td>Jang Wooyoung</td>\n",
       "      <td>1992-08-28</td>\n",
       "      <td>VAV</td>\n",
       "      <td>South Korea</td>\n",
       "      <td>NaN</td>\n",
       "      <td>M</td>\n",
       "      <td>Jang</td>\n",
       "      <td>Wooyoung</td>\n",
       "    </tr>\n",
       "    <tr>\n",
       "      <th>2</th>\n",
       "      <td>Aeji</td>\n",
       "      <td>Kwon Aeji</td>\n",
       "      <td>1999-10-25</td>\n",
       "      <td>Hashtag</td>\n",
       "      <td>South Korea</td>\n",
       "      <td>NaN</td>\n",
       "      <td>F</td>\n",
       "      <td>Kwon</td>\n",
       "      <td>Aeji</td>\n",
       "    </tr>\n",
       "  </tbody>\n",
       "</table>\n",
       "</div>"
      ],
      "text/plain": [
       "  Stage Name      Full Name Date of Birth      Group      Country Other Group  \\\n",
       "0        A.M  Seong Hyunwoo    1996-12-31  Limitless  South Korea         NaN   \n",
       "1        Ace  Jang Wooyoung    1992-08-28        VAV  South Korea         NaN   \n",
       "2       Aeji      Kwon Aeji    1999-10-25    Hashtag  South Korea         NaN   \n",
       "\n",
       "  Gender Surname First Name  \n",
       "0      M   Seong    Hyunwoo  \n",
       "1      M    Jang   Wooyoung  \n",
       "2      F    Kwon       Aeji  "
      ]
     },
     "execution_count": 20,
     "metadata": {},
     "output_type": "execute_result"
    }
   ],
   "source": [
    "idols.head(3)"
   ]
  },
  {
   "cell_type": "markdown",
   "metadata": {},
   "source": [
    "The <code>Full Name</code> can be dropped now."
   ]
  },
  {
   "cell_type": "code",
   "execution_count": 21,
   "metadata": {},
   "outputs": [
    {
     "data": {
      "text/html": [
       "<div>\n",
       "<style scoped>\n",
       "    .dataframe tbody tr th:only-of-type {\n",
       "        vertical-align: middle;\n",
       "    }\n",
       "\n",
       "    .dataframe tbody tr th {\n",
       "        vertical-align: top;\n",
       "    }\n",
       "\n",
       "    .dataframe thead th {\n",
       "        text-align: right;\n",
       "    }\n",
       "</style>\n",
       "<table border=\"1\" class=\"dataframe\">\n",
       "  <thead>\n",
       "    <tr style=\"text-align: right;\">\n",
       "      <th></th>\n",
       "      <th>Stage Name</th>\n",
       "      <th>Date of Birth</th>\n",
       "      <th>Group</th>\n",
       "      <th>Country</th>\n",
       "      <th>Other Group</th>\n",
       "      <th>Gender</th>\n",
       "      <th>Surname</th>\n",
       "      <th>First Name</th>\n",
       "    </tr>\n",
       "  </thead>\n",
       "  <tbody>\n",
       "    <tr>\n",
       "      <th>0</th>\n",
       "      <td>A.M</td>\n",
       "      <td>1996-12-31</td>\n",
       "      <td>Limitless</td>\n",
       "      <td>South Korea</td>\n",
       "      <td>NaN</td>\n",
       "      <td>M</td>\n",
       "      <td>Seong</td>\n",
       "      <td>Hyunwoo</td>\n",
       "    </tr>\n",
       "  </tbody>\n",
       "</table>\n",
       "</div>"
      ],
      "text/plain": [
       "  Stage Name Date of Birth      Group      Country Other Group Gender Surname  \\\n",
       "0        A.M    1996-12-31  Limitless  South Korea         NaN      M   Seong   \n",
       "\n",
       "  First Name  \n",
       "0    Hyunwoo  "
      ]
     },
     "execution_count": 21,
     "metadata": {},
     "output_type": "execute_result"
    }
   ],
   "source": [
    "idols = idols.drop(['Full Name'], axis=1)\n",
    "idols.head(1)"
   ]
  },
  {
   "cell_type": "markdown",
   "metadata": {},
   "source": [
    "Next, I want to know idols that use their original name as stage name."
   ]
  },
  {
   "cell_type": "code",
   "execution_count": 22,
   "metadata": {},
   "outputs": [],
   "source": [
    "def label_race(row):\n",
    "    if row['Stage Name'] == row['First Name'] :\n",
    "        return 'Same'\n",
    "    if row['Stage Name'] != row['First Name'] :\n",
    "        return 'Different'"
   ]
  },
  {
   "cell_type": "code",
   "execution_count": 23,
   "metadata": {},
   "outputs": [
    {
     "data": {
      "text/plain": [
       "Same         728\n",
       "Different    582\n",
       "Name: Same, dtype: int64"
      ]
     },
     "execution_count": 23,
     "metadata": {},
     "output_type": "execute_result"
    }
   ],
   "source": [
    "idols['Same'] = idols.apply(lambda row: label_race(row), axis=1)\n",
    "idols['Same'].value_counts()"
   ]
  },
  {
   "cell_type": "code",
   "execution_count": 24,
   "metadata": {},
   "outputs": [
    {
     "data": {
      "image/png": "[encoded data removed]",
      "text/plain": [
       "<Figure size 576x432 with 1 Axes>"
      ]
     },
     "metadata": {},
     "output_type": "display_data"
    }
   ],
   "source": [
    "# I will visualize it in a pie chart\n",
    "colors_list = ['lightgreen', 'lightcoral']\n",
    "same = idols['Same'].value_counts()\n",
    "same.plot(kind='pie',\n",
    "             figsize=(8, 6),\n",
    "             autopct='%1.1f%%', \n",
    "             startangle=90,     \n",
    "             labels=None,         \n",
    "             pctdistance=1.12, \n",
    "             colors=colors_list,\n",
    "             )\n",
    "\n",
    "plt.title('K-pop Idols Name\\n')\n",
    "plt.axis('equal')\n",
    "plt.legend(labels=['Original Name', 'Stage Name'], loc='upper right') \n",
    "plt.show()"
   ]
  },
  {
   "cell_type": "markdown",
   "metadata": {},
   "source": [
    "Impressive, 44.4% of K-pop idols use stage name! [Selma Finn](https://www.quora.com/Why-do-some-K-pop-idols-not-use-their-real-names) said they do it for a variety of reasons:<br>\n",
    "- There's another debuted idol with that name\n",
    "- They want to distance their stage/on camera personas from their real selves\n",
    "- They're a foreign idol and don't want to stand out\n",
    "- Their name is too long\n",
    "- They don't like their name\n",
    "- They want to appeal to an internation audience, so they pick an English stage name instead of their Korean one\n",
    "- It's already the nickname their friends call them"
   ]
  },
  {
   "cell_type": "markdown",
   "metadata": {},
   "source": [
    "### 5. How about K-pop idols age generation?\n",
    "To answer this, I will change the type of <code>Date of Birth</code> column from string to datetime."
   ]
  },
  {
   "cell_type": "code",
   "execution_count": 25,
   "metadata": {},
   "outputs": [],
   "source": [
    "idols['Date of Birth']= pd.to_datetime(idols['Date of Birth'])"
   ]
  },
  {
   "cell_type": "code",
   "execution_count": 26,
   "metadata": {},
   "outputs": [
    {
     "name": "stdout",
     "output_type": "stream",
     "text": [
      "<class 'pandas.core.frame.DataFrame'>\n",
      "RangeIndex: 1310 entries, 0 to 1309\n",
      "Data columns (total 9 columns):\n",
      " #   Column         Non-Null Count  Dtype         \n",
      "---  ------         --------------  -----         \n",
      " 0   Stage Name     1310 non-null   object        \n",
      " 1   Date of Birth  1310 non-null   datetime64[ns]\n",
      " 2   Group          1219 non-null   object        \n",
      " 3   Country        1310 non-null   object        \n",
      " 4   Other Group    122 non-null    object        \n",
      " 5   Gender         1310 non-null   object        \n",
      " 6   Surname        1310 non-null   object        \n",
      " 7   First Name     1310 non-null   object        \n",
      " 8   Same           1310 non-null   object        \n",
      "dtypes: datetime64[ns](1), object(8)\n",
      "memory usage: 92.2+ KB\n"
     ]
    }
   ],
   "source": [
    "idols.info()"
   ]
  },
  {
   "cell_type": "markdown",
   "metadata": {},
   "source": [
    "Next, I will extract year into <code>Year</code> column."
   ]
  },
  {
   "cell_type": "code",
   "execution_count": 27,
   "metadata": {},
   "outputs": [],
   "source": [
    "idols['Year'] = pd.DatetimeIndex(idols['Date of Birth']).year"
   ]
  },
  {
   "cell_type": "code",
   "execution_count": 28,
   "metadata": {},
   "outputs": [
    {
     "data": {
      "text/plain": [
       "array([1996, 1992, 1999, 2001, 1991, 1989, 2000, 1990, 1998, 1994, 1993,\n",
       "       1997, 1995, 2002, 1987, 1984, 1986, 2003, 2004, 2005, 1988, 1985,\n",
       "       1983, 1981, 1980, 1977, 1982], dtype=int64)"
      ]
     },
     "execution_count": 28,
     "metadata": {},
     "output_type": "execute_result"
    }
   ],
   "source": [
    "idols['Year'].unique()"
   ]
  },
  {
   "cell_type": "markdown",
   "metadata": {},
   "source": [
    "From this unique value, it can be seen that the range of year is 1977 - 2005. So, I will use these three age band of generation (according to [The Pew Research Center](https://www.mentalfloss.com/article/609811/age-ranges-millennials-and-generation-z)) :\n",
    "- Generation X : Born 1965-1980 (39-54 years old)\n",
    "- Generation Y (Millennials) : Born 1981-1996 (23-38 years old)\n",
    "- Generation Z : Born 1997-2012 (7-22 years old)"
   ]
  },
  {
   "cell_type": "code",
   "execution_count": 29,
   "metadata": {},
   "outputs": [],
   "source": [
    "def generation(row):    \n",
    "    if row['Year'] <= 1980:\n",
    "        return 'X'\n",
    "    if (row['Year'] > 1980) & (row['Year'] < 1997):\n",
    "        return 'Y'\n",
    "    if (row['Year'] > 1996) & (row['Year'] < 2013):\n",
    "        return 'Z'"
   ]
  },
  {
   "cell_type": "code",
   "execution_count": 30,
   "metadata": {},
   "outputs": [
    {
     "data": {
      "text/plain": [
       "Y    731\n",
       "Z    577\n",
       "X      2\n",
       "Name: Generation, dtype: int64"
      ]
     },
     "execution_count": 30,
     "metadata": {},
     "output_type": "execute_result"
    }
   ],
   "source": [
    "idols['Generation'] = idols.apply(lambda row: generation(row), axis=1)\n",
    "idols['Generation'].value_counts()"
   ]
  },
  {
   "cell_type": "code",
   "execution_count": 31,
   "metadata": {},
   "outputs": [
    {
     "data": {
      "image/png": "[encoded data removed]",
      "text/plain": [
       "<Figure size 576x432 with 1 Axes>"
      ]
     },
     "metadata": {},
     "output_type": "display_data"
    }
   ],
   "source": [
    "# I will visualize it in a pie chart\n",
    "colors_list = ['lightgreen', 'lightblue', 'lightcoral']\n",
    "generation = idols['Generation'].value_counts()\n",
    "generation.plot(kind='pie',\n",
    "             figsize=(8, 6),\n",
    "             autopct='%1.1f%%', \n",
    "             startangle=90,     \n",
    "             labels=None,         \n",
    "             pctdistance=1.12, \n",
    "             colors=colors_list,\n",
    "             )\n",
    "\n",
    "plt.title('K-pop Idols Generations\\n')\n",
    "plt.axis('equal')\n",
    "plt.legend(labels=['Y Generation', 'Z Generation', 'X Generation'], loc='upper right') \n",
    "plt.show()"
   ]
  },
  {
   "cell_type": "markdown",
   "metadata": {},
   "source": [
    "From this pie chart, it can be seen that Millenials (generation Y) is dominating. Until 2020, the K-pop idols mostly born in 1981 - 1996."
   ]
  },
  {
   "cell_type": "markdown",
   "metadata": {},
   "source": [
    "### Conclusion\n",
    "\n",
    "After these exploration, we can see some insight behind the K-pop idols data from 1992 to 2020 :\n",
    "- The number of male idols and female idols is slightly different.\n",
    "- The idols not only came from South Korea, they came from 12 countries. The top 3 countries : South Korea, China, and Japan. The goal of recruiting foreign idols is to capitalize on K-pop’s international growth. \n",
    "- There are 208 K-pop group in total. Some of idols are soloist that doesn't belong to any group.\n",
    "- The K-pop group also have sub-unit group that may target a different market or audience by exploring different musical influences or promoting in non-Korean languages.\n",
    "- About 44.4% of K-pop idols are use stage name than their original name for several reason.\n",
    "- Until 2020, Millenials generation is dominating in K-pop industry."
   ]
  },
  {
   "cell_type": "code",
   "execution_count": 32,
   "metadata": {},
   "outputs": [
    {
     "data": {
      "text/html": [
       "<div>\n",
       "<style scoped>\n",
       "    .dataframe tbody tr th:only-of-type {\n",
       "        vertical-align: middle;\n",
       "    }\n",
       "\n",
       "    .dataframe tbody tr th {\n",
       "        vertical-align: top;\n",
       "    }\n",
       "\n",
       "    .dataframe thead th {\n",
       "        text-align: right;\n",
       "    }\n",
       "</style>\n",
       "<table border=\"1\" class=\"dataframe\">\n",
       "  <thead>\n",
       "    <tr style=\"text-align: right;\">\n",
       "      <th></th>\n",
       "      <th>Stage Name</th>\n",
       "      <th>Date of Birth</th>\n",
       "      <th>Group</th>\n",
       "      <th>Country</th>\n",
       "      <th>Other Group</th>\n",
       "      <th>Gender</th>\n",
       "      <th>Surname</th>\n",
       "      <th>First Name</th>\n",
       "      <th>Same</th>\n",
       "      <th>Year</th>\n",
       "      <th>Generation</th>\n",
       "    </tr>\n",
       "  </thead>\n",
       "  <tbody>\n",
       "    <tr>\n",
       "      <th>0</th>\n",
       "      <td>A.M</td>\n",
       "      <td>1996-12-31</td>\n",
       "      <td>Limitless</td>\n",
       "      <td>South Korea</td>\n",
       "      <td>NaN</td>\n",
       "      <td>M</td>\n",
       "      <td>Seong</td>\n",
       "      <td>Hyunwoo</td>\n",
       "      <td>Different</td>\n",
       "      <td>1996</td>\n",
       "      <td>Y</td>\n",
       "    </tr>\n",
       "    <tr>\n",
       "      <th>1</th>\n",
       "      <td>Ace</td>\n",
       "      <td>1992-08-28</td>\n",
       "      <td>VAV</td>\n",
       "      <td>South Korea</td>\n",
       "      <td>NaN</td>\n",
       "      <td>M</td>\n",
       "      <td>Jang</td>\n",
       "      <td>Wooyoung</td>\n",
       "      <td>Different</td>\n",
       "      <td>1992</td>\n",
       "      <td>Y</td>\n",
       "    </tr>\n",
       "    <tr>\n",
       "      <th>2</th>\n",
       "      <td>Aeji</td>\n",
       "      <td>1999-10-25</td>\n",
       "      <td>Hashtag</td>\n",
       "      <td>South Korea</td>\n",
       "      <td>NaN</td>\n",
       "      <td>F</td>\n",
       "      <td>Kwon</td>\n",
       "      <td>Aeji</td>\n",
       "      <td>Same</td>\n",
       "      <td>1999</td>\n",
       "      <td>Z</td>\n",
       "    </tr>\n",
       "    <tr>\n",
       "      <th>3</th>\n",
       "      <td>AhIn</td>\n",
       "      <td>1999-09-27</td>\n",
       "      <td>MOMOLAND</td>\n",
       "      <td>South Korea</td>\n",
       "      <td>NaN</td>\n",
       "      <td>F</td>\n",
       "      <td>Lee</td>\n",
       "      <td>Ahin</td>\n",
       "      <td>Different</td>\n",
       "      <td>1999</td>\n",
       "      <td>Z</td>\n",
       "    </tr>\n",
       "    <tr>\n",
       "      <th>4</th>\n",
       "      <td>Ahra</td>\n",
       "      <td>2001-02-21</td>\n",
       "      <td>Favorite</td>\n",
       "      <td>South Korea</td>\n",
       "      <td>NaN</td>\n",
       "      <td>F</td>\n",
       "      <td>Go</td>\n",
       "      <td>Ahra</td>\n",
       "      <td>Same</td>\n",
       "      <td>2001</td>\n",
       "      <td>Z</td>\n",
       "    </tr>\n",
       "    <tr>\n",
       "      <th>5</th>\n",
       "      <td>Ahyoung</td>\n",
       "      <td>1991-05-26</td>\n",
       "      <td>Dal Shabet</td>\n",
       "      <td>South Korea</td>\n",
       "      <td>NaN</td>\n",
       "      <td>F</td>\n",
       "      <td>Cho</td>\n",
       "      <td>Jayoung</td>\n",
       "      <td>Different</td>\n",
       "      <td>1991</td>\n",
       "      <td>Y</td>\n",
       "    </tr>\n",
       "    <tr>\n",
       "      <th>6</th>\n",
       "      <td>Ahyung</td>\n",
       "      <td>1996-08-27</td>\n",
       "      <td>P.O.P</td>\n",
       "      <td>South Korea</td>\n",
       "      <td>NaN</td>\n",
       "      <td>F</td>\n",
       "      <td>Kang</td>\n",
       "      <td>Ahyoung</td>\n",
       "      <td>Different</td>\n",
       "      <td>1996</td>\n",
       "      <td>Y</td>\n",
       "    </tr>\n",
       "    <tr>\n",
       "      <th>7</th>\n",
       "      <td>Ailee</td>\n",
       "      <td>1989-05-30</td>\n",
       "      <td>NaN</td>\n",
       "      <td>South Korea</td>\n",
       "      <td>NaN</td>\n",
       "      <td>F</td>\n",
       "      <td>Lee</td>\n",
       "      <td>Yejin</td>\n",
       "      <td>Different</td>\n",
       "      <td>1989</td>\n",
       "      <td>Y</td>\n",
       "    </tr>\n",
       "    <tr>\n",
       "      <th>8</th>\n",
       "      <td>Aini</td>\n",
       "      <td>1991-07-13</td>\n",
       "      <td>Pink Fantasy</td>\n",
       "      <td>South Korea</td>\n",
       "      <td>NaN</td>\n",
       "      <td>F</td>\n",
       "      <td>Kim</td>\n",
       "      <td>Heejung</td>\n",
       "      <td>Different</td>\n",
       "      <td>1991</td>\n",
       "      <td>Y</td>\n",
       "    </tr>\n",
       "    <tr>\n",
       "      <th>9</th>\n",
       "      <td>Aisha</td>\n",
       "      <td>2000-07-21</td>\n",
       "      <td>Everglow</td>\n",
       "      <td>South Korea</td>\n",
       "      <td>NaN</td>\n",
       "      <td>F</td>\n",
       "      <td>Heo</td>\n",
       "      <td>Yoorim</td>\n",
       "      <td>Different</td>\n",
       "      <td>2000</td>\n",
       "      <td>Z</td>\n",
       "    </tr>\n",
       "  </tbody>\n",
       "</table>\n",
       "</div>"
      ],
      "text/plain": [
       "  Stage Name Date of Birth         Group      Country Other Group Gender  \\\n",
       "0        A.M    1996-12-31     Limitless  South Korea         NaN      M   \n",
       "1        Ace    1992-08-28           VAV  South Korea         NaN      M   \n",
       "2       Aeji    1999-10-25       Hashtag  South Korea         NaN      F   \n",
       "3       AhIn    1999-09-27      MOMOLAND  South Korea         NaN      F   \n",
       "4       Ahra    2001-02-21      Favorite  South Korea         NaN      F   \n",
       "5    Ahyoung    1991-05-26    Dal Shabet  South Korea         NaN      F   \n",
       "6     Ahyung    1996-08-27         P.O.P  South Korea         NaN      F   \n",
       "7      Ailee    1989-05-30           NaN  South Korea         NaN      F   \n",
       "8       Aini    1991-07-13  Pink Fantasy  South Korea         NaN      F   \n",
       "9      Aisha    2000-07-21      Everglow  South Korea         NaN      F   \n",
       "\n",
       "  Surname First Name       Same  Year Generation  \n",
       "0   Seong    Hyunwoo  Different  1996          Y  \n",
       "1    Jang   Wooyoung  Different  1992          Y  \n",
       "2    Kwon       Aeji       Same  1999          Z  \n",
       "3     Lee       Ahin  Different  1999          Z  \n",
       "4      Go       Ahra       Same  2001          Z  \n",
       "5     Cho    Jayoung  Different  1991          Y  \n",
       "6    Kang    Ahyoung  Different  1996          Y  \n",
       "7     Lee      Yejin  Different  1989          Y  \n",
       "8     Kim    Heejung  Different  1991          Y  \n",
       "9     Heo     Yoorim  Different  2000          Z  "
      ]
     },
     "execution_count": 32,
     "metadata": {},
     "output_type": "execute_result"
    }
   ],
   "source": [
    "idols.head(10)"
   ]
  },
  {
   "cell_type": "code",
   "execution_count": null,
   "metadata": {},
   "outputs": [],
   "source": []
  }
 ],
 "metadata": {
  "kernelspec": {
   "display_name": "Python 3",
   "language": "python",
   "name": "python3"
  },
  "language_info": {
   "codemirror_mode": {
    "name": "ipython",
    "version": 3
   },
   "file_extension": ".py",
   "mimetype": "text/x-python",
   "name": "python",
   "nbconvert_exporter": "python",
   "pygments_lexer": "ipython3",
   "version": "3.8.3"
  }
 },
 "nbformat": 4,
 "nbformat_minor": 4
}
